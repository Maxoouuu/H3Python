{
  "nbformat": 4,
  "nbformat_minor": 0,
  "metadata": {
    "colab": {
      "provenance": [],
      "toc_visible": true,
      "authorship_tag": "ABX9TyMkUjkBaWiyzzxejRfy0kOn",
      "include_colab_link": true
    },
    "kernelspec": {
      "name": "python3",
      "display_name": "Python 3"
    },
    "language_info": {
      "name": "python"
    }
  },
  "cells": [
    {
      "cell_type": "markdown",
      "metadata": {
        "id": "view-in-github",
        "colab_type": "text"
      },
      "source": [
        "<a href=\"https://colab.research.google.com/github/Maxoouuu/H3Python/blob/master/Analyse_Python.ipynb\" target=\"_parent\"><img src=\"https://colab.research.google.com/assets/colab-badge.svg\" alt=\"Open In Colab\"/></a>"
      ]
    },
    {
      "cell_type": "markdown",
      "source": [
        "# Data Visualisation Statistiques descriptives"
      ],
      "metadata": {
        "id": "gxsd6_yuxYWP"
      }
    },
    {
      "cell_type": "markdown",
      "source": [
        "## Installation"
      ],
      "metadata": {
        "id": "eI6VcrXdK3EM"
      }
    },
    {
      "cell_type": "markdown",
      "source": [
        "## Visualisation d’un nuage de points et exploration des variables"
      ],
      "metadata": {
        "id": "LVSqco9HxfSS"
      }
    },
    {
      "cell_type": "markdown",
      "source": [
        "\n",
        "\n",
        "```\n",
        "Pour cette partie, nous allons utiliser le dataset suivante : house_pricing.csv que vous pouvez\n",
        "trouver dans le dossier Data Sources. Nous allons tenter de comprendre un peu mieux ce\n",
        "dataset par la visualisation\n",
        "1) Importez les librairies qu’il nous faut (pandas, seaborn, matplotlib, numpy)\n",
        "2) Donnez la liste des variables présentes dans ce dataset ainsi que leur nature (sont elles\n",
        "qualitatives, quantitatives, discrète etc...) et leur type (float, int, str etc...)\n",
        "3) En créant un nuage de points, regardez comment se comporte la colonne LotArea par\n",
        "rapport au SalesPrices\n",
        "4) Affinez votre visualisation en ne gardant uniquement les maisons qui ont un LotArea\n",
        "inférieur à 20 000 pieds carrés et un prix inférieur à 500 000$\n",
        "5) En créant un nuage de points, regardez la relation entre le LotFrontage et le LotArea\n",
        "6) De la même manière, affinez votre visualisation en ne gardant uniquement les maisons\n",
        "qui ont un LotFrontage inférieur à 200 pieds carrés et un LotArea inférieur à 100000\n",
        "pieds carré\n",
        "```\n",
        "\n"
      ],
      "metadata": {
        "id": "y48D2aGBLUhh"
      }
    },
    {
      "cell_type": "code",
      "execution_count": 17,
      "metadata": {
        "colab": {
          "base_uri": "https://localhost:8080/"
        },
        "id": "4BL1pkJzq0f5",
        "outputId": "be024d4e-a8f2-4435-a7ac-8b22b0da3abf"
      },
      "outputs": [
        {
          "output_type": "stream",
          "name": "stdout",
          "text": [
            "Looking in indexes: https://pypi.org/simple, https://us-python.pkg.dev/colab-wheels/public/simple/\n",
            "Requirement already satisfied: pandas in /usr/local/lib/python3.7/dist-packages (1.3.5)\n",
            "Requirement already satisfied: numpy in /usr/local/lib/python3.7/dist-packages (1.21.6)\n",
            "Requirement already satisfied: seaborn in /usr/local/lib/python3.7/dist-packages (0.11.2)\n",
            "Requirement already satisfied: pytz>=2017.3 in /usr/local/lib/python3.7/dist-packages (from pandas) (2022.2.1)\n",
            "Requirement already satisfied: python-dateutil>=2.7.3 in /usr/local/lib/python3.7/dist-packages (from pandas) (2.8.2)\n",
            "Requirement already satisfied: six>=1.5 in /usr/local/lib/python3.7/dist-packages (from python-dateutil>=2.7.3->pandas) (1.15.0)\n",
            "Requirement already satisfied: matplotlib>=2.2 in /usr/local/lib/python3.7/dist-packages (from seaborn) (3.2.2)\n",
            "Requirement already satisfied: scipy>=1.0 in /usr/local/lib/python3.7/dist-packages (from seaborn) (1.7.3)\n",
            "Requirement already satisfied: cycler>=0.10 in /usr/local/lib/python3.7/dist-packages (from matplotlib>=2.2->seaborn) (0.11.0)\n",
            "Requirement already satisfied: pyparsing!=2.0.4,!=2.1.2,!=2.1.6,>=2.0.1 in /usr/local/lib/python3.7/dist-packages (from matplotlib>=2.2->seaborn) (3.0.9)\n",
            "Requirement already satisfied: kiwisolver>=1.0.1 in /usr/local/lib/python3.7/dist-packages (from matplotlib>=2.2->seaborn) (1.4.4)\n",
            "Requirement already satisfied: typing-extensions in /usr/local/lib/python3.7/dist-packages (from kiwisolver>=1.0.1->matplotlib>=2.2->seaborn) (4.1.1)\n"
          ]
        }
      ],
      "source": [
        "!pip install pandas numpy seaborn"
      ]
    },
    {
      "cell_type": "code",
      "source": [
        "import pandas as pd\n",
        "import numpy as np\n",
        "import seaborn as sb"
      ],
      "metadata": {
        "id": "gtzvsicMrBtA"
      },
      "execution_count": 18,
      "outputs": []
    },
    {
      "cell_type": "markdown",
      "source": [
        "## Visualisation de relations continues"
      ],
      "metadata": {
        "id": "xZUBrb9DJt3g"
      }
    },
    {
      "cell_type": "code",
      "source": [],
      "metadata": {
        "id": "7gcULS0EJukZ"
      },
      "execution_count": null,
      "outputs": []
    },
    {
      "cell_type": "markdown",
      "source": [
        "## Visualisation de variables catégoriques"
      ],
      "metadata": {
        "id": "9e_KR1vMKFBh"
      }
    },
    {
      "cell_type": "markdown",
      "source": [
        "## Visualisation d’une distribution"
      ],
      "metadata": {
        "id": "YOcM2upwKQW9"
      }
    },
    {
      "cell_type": "code",
      "source": [],
      "metadata": {
        "id": "IJa9AveEKI4M"
      },
      "execution_count": null,
      "outputs": []
    },
    {
      "cell_type": "markdown",
      "source": [
        "## Visualisation d’une relation linéaire"
      ],
      "metadata": {
        "id": "WXxNnIJLKUQD"
      }
    },
    {
      "cell_type": "code",
      "source": [],
      "metadata": {
        "id": "iBt3k50PKVLi"
      },
      "execution_count": null,
      "outputs": []
    },
    {
      "cell_type": "markdown",
      "source": [
        "## Formaliser des KPI"
      ],
      "metadata": {
        "id": "MxfwqqHyKXdU"
      }
    },
    {
      "cell_type": "code",
      "source": [],
      "metadata": {
        "id": "SInIJaQYKYbD"
      },
      "execution_count": null,
      "outputs": []
    }
  ]
}