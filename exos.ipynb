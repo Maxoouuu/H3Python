{
 "cells": [
  {
   "cell_type": "markdown",
   "metadata": {},
   "source": [
    "2 Exercices d’algorithmique\n",
    "\n",
    "Benjamin Dallard\n",
    "\n",
    "September 12, 2022\n"
   ]
  },
  {
   "cell_type": "markdown",
   "metadata": {},
   "source": [
    "2.1 Conditions et produits\n",
    "\n",
    "Variables m, n en Entier\n",
    "Début\n",
    "Ecrire \"Entrez deux nombres : \"\n",
    "Lire m, n\n",
    "Si (m > 0 ET n > 0) OU (m < 0 ET n < 0) Alors\n",
    "  Ecrire \"Leur produit est positif\"\n",
    "Sinon\n",
    "  Ecrire \"Leur produit est négatif\"\n",
    "Finsi\n",
    "Fin\n",
    "\n"
   ]
  },
  {
   "cell_type": "code",
   "execution_count": 4,
   "metadata": {},
   "outputs": [
    {
     "name": "stdout",
     "output_type": "stream",
     "text": [
      "Leur produit est positif\n"
     ]
    }
   ],
   "source": [
    "a = int(input (\"Entrez votre variable 1 : \"))\n",
    "b = int(input (\"Entrez votre variable 2 : \"))\n",
    "if a > 0 and b > 0 or a < 0 and b < 0:\n",
    "    print('Leur produit est positif')\n",
    "else:\n",
    "   print('Leur produit est négatif')"
   ]
  },
  {
   "cell_type": "markdown",
   "metadata": {},
   "source": [
    "2.2 Additivité\n",
    "\n",
    "\n",
    "Variables N, i, Som en Entier\n",
    "Debut\n",
    "Ecrire \"Entrez un nombre : \"\n",
    "Lire N\n",
    "Som ← 0\n",
    "Pour i ← 1 à N\n",
    "  Som ← Som + i\n",
    "i Suivant\n",
    "Ecrire \"La somme est : \", Som\n",
    "Fin\n",
    "\n"
   ]
  },
  {
   "cell_type": "code",
   "execution_count": 5,
   "metadata": {},
   "outputs": [
    {
     "name": "stdout",
     "output_type": "stream",
     "text": [
      "la somme est  3\n"
     ]
    }
   ],
   "source": [
    "a = int(input (\"Entrez un nombre : \"))\n",
    "sum = 0\n",
    "for i in range(a + 1):\n",
    "    sum = sum + i\n",
    "    i + 1\n",
    "print (\"la somme est \", sum)"
   ]
  },
  {
   "cell_type": "markdown",
   "metadata": {},
   "source": [
    "2.3 Somme des éléments d’un tableau"
   ]
  },
  {
   "cell_type": "code",
   "execution_count": 8,
   "metadata": {},
   "outputs": [
    {
     "ename": "TypeError",
     "evalue": "'int' object is not callable",
     "output_type": "error",
     "traceback": [
      "\u001b[1;31m---------------------------------------------------------------------------\u001b[0m",
      "\u001b[1;31mTypeError\u001b[0m                                 Traceback (most recent call last)",
      "Cell \u001b[1;32mIn [8], line 6\u001b[0m\n\u001b[0;32m      4\u001b[0m   num \u001b[38;5;241m=\u001b[39m \u001b[38;5;28mint\u001b[39m(\u001b[38;5;28minput\u001b[39m(\u001b[38;5;124m\"\u001b[39m\u001b[38;5;124mEntrez votre nombre : \u001b[39m\u001b[38;5;124m\"\u001b[39m))\n\u001b[0;32m      5\u001b[0m   tab\u001b[38;5;241m.\u001b[39mappend(num)\n\u001b[1;32m----> 6\u001b[0m listSum \u001b[38;5;241m=\u001b[39m \u001b[38;5;28;43msum\u001b[39;49m\u001b[43m(\u001b[49m\u001b[43mtab\u001b[49m\u001b[43m)\u001b[49m\n\u001b[0;32m      7\u001b[0m \u001b[38;5;28mprint\u001b[39m(\u001b[38;5;124m\"\u001b[39m\u001b[38;5;124mla somme des valeurs de la liste est : \u001b[39m\u001b[38;5;124m\"\u001b[39m , listSum)\n",
      "\u001b[1;31mTypeError\u001b[0m: 'int' object is not callable"
     ]
    }
   ],
   "source": [
    "tab = []\n",
    "del num\n",
    "a = int(input(\"Combien de valeurs ? \"))\n",
    "for i in range(a):\n",
    "  num = int(input(\"Entrez votre nombre : \"))\n",
    "  tab.append(num)\n",
    "listSum = sum(tab)\n",
    "print(\"la somme des valeurs de la liste est : \" , listSum)"
   ]
  },
  {
   "cell_type": "code",
   "execution_count": null,
   "metadata": {},
   "outputs": [],
   "source": []
  }
 ],
 "metadata": {
  "kernelspec": {
   "display_name": "Python 3.10.7 64-bit",
   "language": "python",
   "name": "python3"
  },
  "language_info": {
   "codemirror_mode": {
    "name": "ipython",
    "version": 3
   },
   "file_extension": ".py",
   "mimetype": "text/x-python",
   "name": "python",
   "nbconvert_exporter": "python",
   "pygments_lexer": "ipython3",
   "version": "3.10.7"
  },
  "orig_nbformat": 4,
  "vscode": {
   "interpreter": {
    "hash": "ab172ba48027ee50c1fa5c05ac1ec9581f4b8510ba040cc60c09afeb47ba08f6"
   }
  }
 },
 "nbformat": 4,
 "nbformat_minor": 2
}
