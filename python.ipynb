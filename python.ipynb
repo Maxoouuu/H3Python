{
  "nbformat": 4,
  "nbformat_minor": 0,
  "metadata": {
    "colab": {
      "provenance": [],
      "toc_visible": true,
      "authorship_tag": "ABX9TyNPm6Uc5O6xdsQ27FRX+w+Q",
      "include_colab_link": true
    },
    "kernelspec": {
      "name": "python3",
      "display_name": "Python 3"
    },
    "language_info": {
      "name": "python"
    }
  },
  "cells": [
    {
      "cell_type": "markdown",
      "metadata": {
        "id": "view-in-github",
        "colab_type": "text"
      },
      "source": [
        "<a href=\"https://colab.research.google.com/github/Maxoouuu/H3Python/blob/master/python.ipynb\" target=\"_parent\"><img src=\"https://colab.research.google.com/assets/colab-badge.svg\" alt=\"Open In Colab\"/></a>"
      ]
    },
    {
      "cell_type": "markdown",
      "source": [
        "Exercices d’algorithmique\n",
        "\n",
        "Benjamin Dallard\n",
        "\n",
        "September 12, 2022\n"
      ],
      "metadata": {
        "id": "9xNTFSfRHC6E"
      }
    },
    {
      "cell_type": "markdown",
      "source": [
        "**2 Algorythme**\n",
        "\n",
        "2.1 Conditions et produits\n",
        "\n",
        "Ecrire un algorithme qui demande deux nombres à l’utilisateur et l’informe en\n",
        "suite si leur produit est négatif ou positif (on laisse de côté le cas où le produit\n",
        "est nul). Attention toute fois : on ne doit pas calculer le produit des deux\n",
        "nombres.\n",
        "\n",
        "\n",
        "\n",
        "```\n",
        "Variables m, n en Entier\n",
        "Début\n",
        "Ecrire \"Entrez deux nombres : \"\n",
        "Lire m, n\n",
        "Si (m > 0 ET n > 0) OU (m < 0 ET n < 0) Alors\n",
        "  Ecrire \"Leur produit est positif\"\n",
        "Sinon\n",
        "  Ecrire \"Leur produit est négatif\"\n",
        "Finsi\n",
        "Fin\n",
        "```\n",
        "\n",
        "\n",
        "\n",
        "\n"
      ],
      "metadata": {
        "id": "e-ovbFR9HGtb"
      }
    },
    {
      "cell_type": "code",
      "source": [
        "a = int(input (\"Entrez votre variable 1 : \"))\n",
        "b = int(input (\"Entrez votre variable 2 : \"))\n",
        "if a > 0 and b > 0 or a < 0 and b < 0:\n",
        "    print('Leur produit est positif')\n",
        "else:\n",
        "   print('Leur produit est négatif')"
      ],
      "metadata": {
        "colab": {
          "base_uri": "https://localhost:8080/"
        },
        "id": "K6IA69GGHJrg",
        "outputId": "7947d65b-b9c2-4bfc-c627-114ee0d3eae5"
      },
      "execution_count": null,
      "outputs": [
        {
          "output_type": "stream",
          "name": "stdout",
          "text": [
            "Entrez votre variable 1 : 3\n",
            "Entrez votre variable 2 : 3\n",
            "Leur produit est positif\n"
          ]
        }
      ]
    },
    {
      "cell_type": "markdown",
      "source": [
        "2.2 Additivité\n",
        "\n",
        "Ecrire un algorithme qui demande un nombre de départ, et qui calcule la somme\n",
        "des entiers jusqu'à ce nombre. Par exemple, si l’on entre 5, le programme doit\n",
        "calculer : 1 + 2 + 3 + 4 + 5 = 15.\n",
        "\n",
        "\n",
        "\n",
        "\n",
        "```\n",
        "Variables N, i, Som en Entier\n",
        "Debut\n",
        "Ecrire \"Entrez un nombre : \"\n",
        "Lire N\n",
        "Som ← 0\n",
        "Pour i ← 1 à N\n",
        "  Som ← Som + i\n",
        "i Suivant\n",
        "Ecrire \"La somme est : \", Som\n",
        "Fin\n",
        "```\n",
        "\n"
      ],
      "metadata": {
        "id": "05kiwwJYHdbD"
      }
    },
    {
      "cell_type": "code",
      "source": [
        "a = int(input (\"Entrez un nombre : \"))\n",
        "sum = 0\n",
        "for i in range(a + 1):\n",
        "    sum = sum + i\n",
        "    i + 1\n",
        "print (\"la somme est \", sum)"
      ],
      "metadata": {
        "colab": {
          "base_uri": "https://localhost:8080/"
        },
        "id": "k6VoPp2SHeAe",
        "outputId": "1036691d-803c-4e1e-a01f-a60dee34e26a"
      },
      "execution_count": null,
      "outputs": [
        {
          "output_type": "stream",
          "name": "stdout",
          "text": [
            "Entrez un nombre : 3\n",
            "la somme est  6\n"
          ]
        }
      ]
    },
    {
      "cell_type": "markdown",
      "source": [
        "2.3 Somme des  ́éléments d’un tableau\n",
        "\n",
        "Ecrire un algorithme calculant la somme des valeurs d’un tableau (on suppose\n",
        "bien sur que le tableau a été préalablement saisi)."
      ],
      "metadata": {
        "id": "94jknJsEHp8M"
      }
    },
    {
      "cell_type": "markdown",
      "source": [
        "\n",
        "\n",
        "```\n",
        "Variables tableau, sum, i, a, listSum(int)\n",
        "a <- ecrire \"combien de valeur \"\n",
        "Tant que i range (a) \n",
        "  écrire \"votre nombre\"\n",
        "  ajouter la valeur dans une listSum\n",
        "Somme de la listSum\n",
        "afficher la somme de la liste\n",
        "\n",
        "```\n",
        "\n"
      ],
      "metadata": {
        "id": "oZ2TqVFYjKB2"
      }
    },
    {
      "cell_type": "code",
      "source": [
        "tab = []\n",
        "del sum\n",
        "a = int(input(\"Combien de valeurs ? \"))\n",
        "for i in range(a):\n",
        "  num = int(input(\"Entrez votre nombre : \"))\n",
        "  tab.append(num)\n",
        "listSum = sum(tab)\n",
        "print(\"la somme des valeurs de la liste est : \" , listSum)"
      ],
      "metadata": {
        "colab": {
          "base_uri": "https://localhost:8080/"
        },
        "id": "TLJzpa9FHqca",
        "outputId": "7455d4af-d4da-40b3-a13d-b9c25966fc94"
      },
      "execution_count": null,
      "outputs": [
        {
          "output_type": "stream",
          "name": "stdout",
          "text": [
            "Combien de valeurs ? 3\n",
            "Entrez votre nombre : 3\n",
            "Entrez votre nombre : 3\n",
            "Entrez votre nombre : 3\n",
            "la somme des valeurs de la liste est :  9\n"
          ]
        }
      ]
    },
    {
      "cell_type": "markdown",
      "source": [
        "2.4 FacProduct\n",
        "\n",
        "Toujours à partir de deux tableaux précédemment saisis, écrire un algorithme\n",
        "qui calcule le ’FacProduct’ des deux tableaux. Pour calculer le ’FacProduct’, il\n",
        "faut multiplier deux à deux les  ́éléments des tableaux et additionner le tout (le\n",
        "résultat final doit donc est un réel).\n",
        "\n"
      ],
      "metadata": {
        "id": "1QAUkPw-IHuL"
      }
    },
    {
      "cell_type": "code",
      "source": [
        "tab1 = []\n",
        "tab2 = []\n",
        "a = int(input(\"Combien de nombre dans le tableau 1 ? \"))\n",
        "for i in range(a):\n",
        "  num = int(input(\"Entrez vos nombres : \"))\n",
        "  tab1.append(num)\n",
        "print (\"Votre tableau 1 : \", tab1)\n",
        "\n",
        "b = int(input(\"Combien de nombre dans le tableau 2 ? \"))\n",
        "for j in range(b):\n",
        "  num = int(input(\"Entrez vos nombres : \"))\n",
        "  tab2.append(num)\n",
        "print (\"Votre tableau 2 : \", tab2)\n",
        "\n",
        "resultat = 0\n",
        "for x in range(len(tab1)) :\n",
        "  for w in range(len(tab2)) :\n",
        "    res = tab1[x]*tab2[w]\n",
        "    resultat += res\n",
        "\n",
        "print (\"Résultat :\",resultat)\n"
      ],
      "metadata": {
        "colab": {
          "base_uri": "https://localhost:8080/"
        },
        "id": "LC0ppYlqILyU",
        "outputId": "c4324855-6265-4229-872f-0dcfba023f16"
      },
      "execution_count": null,
      "outputs": [
        {
          "output_type": "stream",
          "name": "stdout",
          "text": [
            "Combien de nombre dans le tableau 1 ? 3\n",
            "Entrez vos nombres : 3\n",
            "Entrez vos nombres : 3\n",
            "Entrez vos nombres : 3\n",
            "Votre tableau 1 :  [3, 3, 3]\n",
            "Combien de nombre dans le tableau 2 ? 3\n",
            "Entrez vos nombres : 3\n",
            "Entrez vos nombres : 3\n",
            "Entrez vos nombres : 3\n",
            "Votre tableau 2 :  [3, 3, 3]\n",
            "Résultat : 81\n"
          ]
        }
      ]
    },
    {
      "cell_type": "markdown",
      "source": [
        "2.5 Le plus grand\n",
        "Ecrire un algorithme permettant à l’utilisateur de renvoyer la plus grande valeur\n",
        "du tableau passer en input en précisant quelle position elle occupe dans le\n",
        "tableau.\n"
      ],
      "metadata": {
        "id": "qZ0BmI7OOQvb"
      }
    },
    {
      "cell_type": "code",
      "source": [
        "tab3 = []\n",
        "\n",
        "a = int(input(\"Combien de nombre dans le tableau ? \"))\n",
        "for i in range(a):\n",
        "  num = int(input(\"Entrez vos nombres : \"))\n",
        "  tab3.append(num)\n",
        "print (\"Votre tableau : \", tab3)\n",
        "\n",
        "max_value = max(tab3)\n",
        "print('La plus grande valeur est : ', max_value, \" A l'index:\", tab3.index(max_value))\n"
      ],
      "metadata": {
        "colab": {
          "base_uri": "https://localhost:8080/"
        },
        "id": "hbsrSL4TORsE",
        "outputId": "9b7c57c7-cffb-480b-ac2e-76ef6ee56bb0"
      },
      "execution_count": null,
      "outputs": [
        {
          "output_type": "stream",
          "name": "stdout",
          "text": [
            "Combien de nombre dans le tableau ? 3\n",
            "Entrez vos nombres : 5\n",
            "Entrez vos nombres : 6\n",
            "Entrez vos nombres : 7\n",
            "Votre tableau :  [5, 6, 7]\n",
            "La plus grande valeur est :  7  At index: 2\n"
          ]
        }
      ]
    },
    {
      "cell_type": "markdown",
      "source": [
        "2.6 Plus grand que la moyenne\n",
        "\n",
        "Ecrire un algorithme permettant à l’utilisateur de renvoyer le nombre de valeur\n",
        "supérieures à la moyenne d’un tableau passé en input de taille n.\n"
      ],
      "metadata": {
        "id": "qL7C-EJDQjag"
      }
    },
    {
      "cell_type": "code",
      "source": [
        "tab4 = []\n",
        "\n",
        "a = int(input(\"Combien de nombre dans le tableau ? \"))\n",
        "for i in range(a):\n",
        "  num = int(input(\"Entrez vos nombres : \"))\n",
        "  tab4.append(num)\n",
        "print (\"Votre tableau : \", tab4)\n",
        "\n",
        "moyenne = sum(tab4)/len(tab4)\n",
        "print (\"La moyenne du tableau est : \",moyenne)\n",
        "\n",
        "cpt=0\n",
        "for i in range (len(tab4)):\n",
        "  if tab4[i] > moyenne :\n",
        "    cpt += 1 \n",
        "print (\"Le nombre de valeur supérieur à la moyenne est : \", cpt)"
      ],
      "metadata": {
        "colab": {
          "base_uri": "https://localhost:8080/"
        },
        "id": "05jUKvhqQkI0",
        "outputId": "d58849fd-db39-4bd9-e33c-9fcbc43f4c87"
      },
      "execution_count": null,
      "outputs": [
        {
          "output_type": "stream",
          "name": "stdout",
          "text": [
            "Combien de nombre dans le tableau ? 5\n",
            "Entrez vos nombres : 1\n",
            "Entrez vos nombres : 2\n",
            "Entrez vos nombres : 3\n",
            "Entrez vos nombres : 4\n",
            "Entrez vos nombres : 5\n",
            "Votre tableau :  [1, 2, 3, 4, 5]\n",
            "La moyenne du tableau est :  3.0\n",
            "Le nombre de valeur supérieur à la moyenne est :  2\n"
          ]
        }
      ]
    },
    {
      "cell_type": "markdown",
      "source": [
        "2.7 Multiplier des vecteurs\n",
        "\n",
        "Ecrire un algorithme permettant d’effectuer la multiplication de deux vecteurs\n",
        "de taille N connue à l’avance et d’afficher le résultat."
      ],
      "metadata": {
        "id": "XI4qqxn4Ts94"
      }
    },
    {
      "cell_type": "code",
      "source": [
        "a = [1,2,3]\n",
        "b = [4,5,6]\n",
        "result = []\n",
        "\n",
        "for i in range (len(a)):\n",
        "  result.append(a[i]*b[i])\n",
        "print(result)\n",
        "\n"
      ],
      "metadata": {
        "id": "jinQ9-9uTsUd",
        "colab": {
          "base_uri": "https://localhost:8080/"
        },
        "outputId": "050296ec-77f8-4e54-8761-15788601849e"
      },
      "execution_count": null,
      "outputs": [
        {
          "output_type": "stream",
          "name": "stdout",
          "text": [
            "[4, 10, 18]\n"
          ]
        }
      ]
    },
    {
      "cell_type": "markdown",
      "source": [
        "2.8 Tris\n",
        "\n",
        "Écrire un algorithme permettant de trier un tableau de taille n."
      ],
      "metadata": {
        "id": "AROWbtt2Hlyv"
      }
    },
    {
      "cell_type": "code",
      "source": [
        "a = [5, 2, 3, 1, 4]\n",
        "a.sort()\n",
        "a"
      ],
      "metadata": {
        "colab": {
          "base_uri": "https://localhost:8080/"
        },
        "id": "fZu6vOHdHmyQ",
        "outputId": "5968a859-93a2-402c-ef93-c61524456b32"
      },
      "execution_count": null,
      "outputs": [
        {
          "output_type": "execute_result",
          "data": {
            "text/plain": [
              "[1, 2, 3, 4, 5]"
            ]
          },
          "metadata": {},
          "execution_count": 10
        }
      ]
    },
    {
      "cell_type": "markdown",
      "source": [
        "2.9 Factorielle\n",
        "\n",
        "Ecrire un algorithme qui demande un nombre de départ, et qui calcule sa\n",
        "factorielle. On rappel qu’on calcul factorielle n tel que : n! = ∏\n",
        "1in i =\n",
        "1 ×2 ×3 ×... ×(n −1) ×n.. Par exemple 4! = 1 ×2 ×3 ×4"
      ],
      "metadata": {
        "id": "W2DOXLpuH3HG"
      }
    },
    {
      "cell_type": "code",
      "source": [
        "nbr = int(input('Entrez un nombre : '))\n",
        "fact = 1\n",
        "for i in range(1, nbr+1):\n",
        "  fact = fact * i\n",
        "print (nbr,'! = ',fact)"
      ],
      "metadata": {
        "colab": {
          "base_uri": "https://localhost:8080/"
        },
        "id": "75qkXrmpH6xw",
        "outputId": "d3fba062-8ffe-445e-ba14-cbafe67b5388"
      },
      "execution_count": null,
      "outputs": [
        {
          "output_type": "stream",
          "name": "stdout",
          "text": [
            "Entrez un nombre : 3\n",
            "3 ! =  6\n"
          ]
        }
      ]
    },
    {
      "cell_type": "markdown",
      "source": [
        "2.10 La multiplication matricielle\n",
        "\n",
        "Ecrire un algorithme qui prend deux matrices carrées A et B de taille n et qui\n",
        "renvoie un élément ci,j (l’élement de la ligne i colonne j) de la matrice C tel\n",
        "que, A ×B = C."
      ],
      "metadata": {
        "id": "ehT6T-ixIO4Z"
      }
    },
    {
      "cell_type": "code",
      "source": [
        "import numpy as np\n",
        "\n",
        "A=np.array([[1,2],[3,4],[5,6]]) \n",
        "B=np.array([[1,2,3],[3,4,5]])\n",
        "np.dot(A,B)"
      ],
      "metadata": {
        "colab": {
          "base_uri": "https://localhost:8080/"
        },
        "id": "GmZoC-2FISMU",
        "outputId": "383795f6-b41a-4d77-8588-70a6e43b21bf"
      },
      "execution_count": null,
      "outputs": [
        {
          "output_type": "execute_result",
          "data": {
            "text/plain": [
              "array([[ 7, 10, 13],\n",
              "       [15, 22, 29],\n",
              "       [23, 34, 45]])"
            ]
          },
          "metadata": {},
          "execution_count": 13
        }
      ]
    },
    {
      "cell_type": "markdown",
      "source": [
        "2.11 Suite de Fibonacci\n",
        "\n",
        "La suite de Fibonacci est d ́efinit récursivement par F0 = 0 , F1 = 1 et Fn+2 =\n",
        "Fn+1 + Fn pour n ≥0. Ecrire une fonction FIBO(n) qui implémente la formule\n",
        "ci-dessus."
      ],
      "metadata": {
        "id": "hIyoO84IJZoU"
      }
    },
    {
      "cell_type": "code",
      "source": [
        "# Programme pour générer la suite de Fibonacci en utilisant la récursivité\n",
        "\n",
        "def fibonacci(n):\n",
        "    if(n <= 1):\n",
        "        return n\n",
        "    else:\n",
        "        return (fibonacci(n-1) + fibonacci(n-2))\n",
        "\n",
        "n = int(input(\"Entrez le nombre de termes:\"))\n",
        "\n",
        "print(\"Suite de Fibonacci en utilisant la recursion :\")\n",
        "for i in range(n):\n",
        "    print(fibonacci(i))"
      ],
      "metadata": {
        "id": "gtvSs685JdeC",
        "outputId": "285bbafb-ca95-45e3-b216-4fbc207578eb",
        "colab": {
          "base_uri": "https://localhost:8080/"
        }
      },
      "execution_count": null,
      "outputs": [
        {
          "output_type": "stream",
          "name": "stdout",
          "text": [
            "Entrez le nombre de termes:10\n",
            "Suite de Fibonacci en utilisant la recursion :\n",
            "0\n",
            "1\n",
            "1\n",
            "2\n",
            "3\n",
            "5\n",
            "8\n",
            "13\n",
            "21\n",
            "34\n"
          ]
        }
      ]
    },
    {
      "cell_type": "markdown",
      "source": [
        "2.12 Le temps d’arrêt\n",
        "\n",
        "On note Hn la somme Hn = ∑n\n",
        "k=1 1\n",
        "k . On admet que H tend vers +∞.  ́Ecrire\n",
        "un algorithme qui détermine le plus petit entier n tel que (H) dépasse un réel\n",
        "α donné."
      ],
      "metadata": {
        "id": "maNYCrY3KXpO"
      }
    },
    {
      "cell_type": "markdown",
      "source": [
        "\n",
        "\n",
        "```\n",
        "n=0\n",
        "H=0\n",
        "Tant que (H<a) faire\n",
        "  n=n+1\n",
        "  H=H+1/n\n",
        "Fin tant que\n",
        "Afficher n.  \n",
        "```\n",
        "\n"
      ],
      "metadata": {
        "id": "TIj2dFPhLShU"
      }
    },
    {
      "cell_type": "markdown",
      "source": [
        "Distance de levenshtein"
      ],
      "metadata": {
        "id": "p-upkUSYfJKl"
      }
    },
    {
      "cell_type": "code",
      "source": [
        "#Ophir LOJKINE\n",
        "#coding: utf8\n",
        "def levenshtein(mot1,mot2):\n",
        "\t# ligne_i est un tableau tel que tout au long de l'algorithme,\n",
        "\t# ligne_i[k] contienne la distance de levenshtein entre les k premières lettres de mot1\n",
        "\t# et les i premières lettres de mot2\n",
        "\t# Au début, i=0, et la distance entre les k premières lettres de mot1 et la chaîne vide\n",
        "\t# vaut bien sûr k. (il faut faire k suppressions pour passer des k premières lettres de mot1\n",
        "\t# à la chaîne vide)\n",
        "\tligne_i = [ k for k in range(len(mot1)+1) ]\n",
        "\t# i va ensuite varier de 1 à len(mot2)\n",
        "\tfor i in range(1, len(mot2) + 1):\n",
        "\t\t# i vient d'être incrémenté. On stocke dans ligne_prec la valeur de la ligne numéro i-1\n",
        "\t\tligne_prec = ligne_i\n",
        "\t\t# On crée la nouvelle ligne, dont le premier élément (l'élement numéro 0) doit être\n",
        "\t\t# la distance de levenshtein entre la chaîne vide (\"\") et les i premières lettres de mot2, soit i\n",
        "\t\t# (il faut faire i additions pour passer de la chaîne vide aux i premières lettres de mot2)\n",
        "\t\tligne_i = [i]*(len(mot1)+1)\n",
        "\t\t# On va ensuite remplir le reste de la ligne i, c'est-à-dire calculer ligne_i[k] pour k allant de 1 à len(mot1)\n",
        "\t\tfor k in range(1,len(ligne_i)):\n",
        "\t\t\t# La variable cout vaut 0 si la kième lettre de mot1 est la même que la ième lettre de mot2, et 1 sinon\n",
        "\t\t\t#La kième lettre de mot1 s'obtient avec mot1[k-1], les indices commencent à 0\n",
        "\t\t\tcout = int(mot1[k-1] != mot2[i-1])\n",
        "\t\t\t#Voilà enfin le sel de l'algorithme, le calcul de ligne_i[k] pour i et k quelconques,\n",
        "\t\t\t# connaissant ligne_prec[k-1], ligne_prec[k] et ligne_i[k-1]\n",
        "\t\t\tligne_i[k] = min(ligne_i[k-1] + 1, ligne_prec[k] + 1, ligne_prec[k-1] + cout)\n",
        "\t# Lorsque l'on sort de la boucle, i vaut len(mot2)\n",
        "\t#Ce que l'on cherche est la distance de levenshtein entre les len(mot1) premières lettres de mot1\n",
        "\t# et les len(mot2) premières lettres de mot2, qui est stockée dans ligne_i[len(mot1)]\n",
        "\treturn ligne_i[len(mot1)]\n",
        "print (levenshtein(\"chien\", \"niche\"))"
      ],
      "metadata": {
        "colab": {
          "base_uri": "https://localhost:8080/"
        },
        "id": "AbAw7Qt9RA4s",
        "outputId": "e519f16b-5d37-40b3-99ff-0dc2c181c6af"
      },
      "execution_count": 14,
      "outputs": [
        {
          "output_type": "stream",
          "name": "stdout",
          "text": [
            "4\n"
          ]
        }
      ]
    },
    {
      "cell_type": "markdown",
      "source": [
        "Dictionnaire "
      ],
      "metadata": {
        "id": "IBEIy611bR66"
      }
    },
    {
      "cell_type": "code",
      "source": [
        "def enumdict(listed):\n",
        "    myDict = {}\n",
        "    for i, x in enumerate(listed):\n",
        "        myDict[x] = i\n",
        "\n",
        "    return myDict\n",
        "\n",
        "indexes = []\n",
        "\n",
        "a = int(input(\"Combien de mot dans la liste ? \"))\n",
        "for i in range(a):\n",
        "  mot = input(\"Entrez vos mots : \")\n",
        "  indexes.append(mot)\n",
        "print (\"Votre tableau : \", indexes)\n",
        "\n",
        "enumdict(indexes)"
      ],
      "metadata": {
        "colab": {
          "base_uri": "https://localhost:8080/"
        },
        "id": "XybfC0eNbTor",
        "outputId": "06d9e894-4fb5-4b3d-9ae5-2ad0bb95408b"
      },
      "execution_count": 10,
      "outputs": [
        {
          "output_type": "stream",
          "name": "stdout",
          "text": [
            "Combien de mot dans la liste ? 3\n",
            "Entrez vos mots : test1\n",
            "Entrez vos mots : test2\n",
            "Entrez vos mots : test3\n",
            "Votre tableau :  ['test1', 'test2', 'test3']\n"
          ]
        },
        {
          "output_type": "execute_result",
          "data": {
            "text/plain": [
              "{'test1': 0, 'test2': 1, 'test3': 2}"
            ]
          },
          "metadata": {},
          "execution_count": 10
        }
      ]
    },
    {
      "cell_type": "markdown",
      "source": [
        "test matrice\n"
      ],
      "metadata": {
        "id": "MJw-eriIet95"
      }
    },
    {
      "cell_type": "code",
      "source": [
        "A = [[1, 4, 5, 12], \n",
        "    [-5, 8, 9, 0],\n",
        "    [-6, 7, 11, 19]]\n",
        "\n",
        "print(\"A =\", A) \n",
        "print(\"A[1] =\", A[1])      # 2nd row\n",
        "print(\"A[1][2] =\", A[1][2])   # 3rd element of 2nd row\n",
        "print(\"A[0][-1] =\", A[0][-1])   # Last element of 1st Row\n",
        "\n",
        "column = [];        # empty list\n",
        "for row in A:\n",
        "  column.append(row[2])   \n",
        "\n",
        "print(\"3rd column =\", column)"
      ],
      "metadata": {
        "colab": {
          "base_uri": "https://localhost:8080/"
        },
        "id": "el3SPjW0evvq",
        "outputId": "98a0f8f2-196a-4ee8-92fd-df54c42208d4"
      },
      "execution_count": 11,
      "outputs": [
        {
          "output_type": "stream",
          "name": "stdout",
          "text": [
            "A = [[1, 4, 5, 12], [-5, 8, 9, 0], [-6, 7, 11, 19]]\n",
            "A[1] = [-5, 8, 9, 0]\n",
            "A[1][2] = 9\n",
            "A[0][-1] = 12\n",
            "3rd column = [5, 9, 11]\n"
          ]
        }
      ]
    },
    {
      "cell_type": "code",
      "source": [],
      "metadata": {
        "id": "ynWLtG7xewI1"
      },
      "execution_count": null,
      "outputs": []
    }
  ]
}