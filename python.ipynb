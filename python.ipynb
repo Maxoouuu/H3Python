{
  "nbformat": 4,
  "nbformat_minor": 0,
  "metadata": {
    "colab": {
      "provenance": [],
      "toc_visible": true,
      "authorship_tag": "ABX9TyOHULEo/iWAEeIWXxrmt9xM",
      "include_colab_link": true
    },
    "kernelspec": {
      "name": "python3",
      "display_name": "Python 3"
    },
    "language_info": {
      "name": "python"
    }
  },
  "cells": [
    {
      "cell_type": "markdown",
      "metadata": {
        "id": "view-in-github",
        "colab_type": "text"
      },
      "source": [
        "<a href=\"https://colab.research.google.com/github/Maxoouuu/H3Python/blob/master/python.ipynb\" target=\"_parent\"><img src=\"https://colab.research.google.com/assets/colab-badge.svg\" alt=\"Open In Colab\"/></a>"
      ]
    },
    {
      "cell_type": "code",
      "execution_count": null,
      "metadata": {
        "colab": {
          "base_uri": "https://localhost:8080/"
        },
        "id": "xEo2LWVItjqS",
        "outputId": "94c25016-9c61-4ec3-f1b8-3652f1232a02"
      },
      "outputs": [
        {
          "output_type": "stream",
          "name": "stdout",
          "text": [
            "Combien de valeurs ? 2\n",
            "Entrez votre nombre : 2\n",
            "Entrez votre nombre : 2\n",
            "la somme des valeurs de la liste est :  4\n"
          ]
        }
      ],
      "source": [
        "tab = []\n",
        "a = int(input(\"Combien de valeurs ? \"))\n",
        "for i in range(a):\n",
        "  num = int(input(\"Entrez votre nombre : \"))\n",
        "  tab.append(num)\n",
        "listSum = sum(tab)\n",
        "print(\"la somme des valeurs de la liste est : \" , listSum)"
      ]
    },
    {
      "cell_type": "code",
      "source": [],
      "metadata": {
        "id": "LO_J79ZA6qD3"
      },
      "execution_count": null,
      "outputs": []
    }
  ]
}