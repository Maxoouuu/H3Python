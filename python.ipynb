{
  "nbformat": 4,
  "nbformat_minor": 0,
  "metadata": {
    "colab": {
      "provenance": [],
      "toc_visible": true,
      "authorship_tag": "ABX9TyMZckONV/NlshVMebOJh9X6",
      "include_colab_link": true
    },
    "kernelspec": {
      "name": "python3",
      "display_name": "Python 3"
    },
    "language_info": {
      "name": "python"
    }
  },
  "cells": [
    {
      "cell_type": "markdown",
      "metadata": {
        "id": "view-in-github",
        "colab_type": "text"
      },
      "source": [
        "<a href=\"https://colab.research.google.com/github/Maxoouuu/H3Python/blob/master/python.ipynb\" target=\"_parent\"><img src=\"https://colab.research.google.com/assets/colab-badge.svg\" alt=\"Open In Colab\"/></a>"
      ]
    },
    {
      "cell_type": "markdown",
      "source": [
        "Exercices d’algorithmique\n",
        "\n",
        "Benjamin Dallard\n",
        "\n",
        "September 12, 2022\n"
      ],
      "metadata": {
        "id": "9xNTFSfRHC6E"
      }
    },
    {
      "cell_type": "markdown",
      "source": [
        "2 Algorythme\n",
        "\n",
        "2.1 Conditions et produits\n",
        "\n",
        "Variables m, n en Entier\n",
        "Début\n",
        "Ecrire \"Entrez deux nombres : \"\n",
        "Lire m, n\n",
        "Si (m > 0 ET n > 0) OU (m < 0 ET n < 0) Alors\n",
        "  Ecrire \"Leur produit est positif\"\n",
        "Sinon\n",
        "  Ecrire \"Leur produit est négatif\"\n",
        "Finsi\n",
        "Fin\n"
      ],
      "metadata": {
        "id": "e-ovbFR9HGtb"
      }
    },
    {
      "cell_type": "code",
      "source": [
        "a = int(input (\"Entrez votre variable 1 : \"))\n",
        "b = int(input (\"Entrez votre variable 2 : \"))\n",
        "if a > 0 and b > 0 or a < 0 and b < 0:\n",
        "    print('Leur produit est positif')\n",
        "else:\n",
        "   print('Leur produit est négatif')"
      ],
      "metadata": {
        "colab": {
          "base_uri": "https://localhost:8080/"
        },
        "id": "K6IA69GGHJrg",
        "outputId": "7947d65b-b9c2-4bfc-c627-114ee0d3eae5"
      },
      "execution_count": 1,
      "outputs": [
        {
          "output_type": "stream",
          "name": "stdout",
          "text": [
            "Entrez votre variable 1 : 3\n",
            "Entrez votre variable 2 : 3\n",
            "Leur produit est positif\n"
          ]
        }
      ]
    },
    {
      "cell_type": "markdown",
      "source": [
        "2.2 Additivité\n",
        "\n",
        "\n",
        "Variables N, i, Som en Entier\n",
        "Debut\n",
        "Ecrire \"Entrez un nombre : \"\n",
        "Lire N\n",
        "Som ← 0\n",
        "Pour i ← 1 à N\n",
        "  Som ← Som + i\n",
        "i Suivant\n",
        "Ecrire \"La somme est : \", Som\n",
        "Fin\n"
      ],
      "metadata": {
        "id": "05kiwwJYHdbD"
      }
    },
    {
      "cell_type": "code",
      "source": [
        "a = int(input (\"Entrez un nombre : \"))\n",
        "sum = 0\n",
        "for i in range(a + 1):\n",
        "    sum = sum + i\n",
        "    i + 1\n",
        "print (\"la somme est \", sum)"
      ],
      "metadata": {
        "colab": {
          "base_uri": "https://localhost:8080/"
        },
        "id": "k6VoPp2SHeAe",
        "outputId": "1036691d-803c-4e1e-a01f-a60dee34e26a"
      },
      "execution_count": 2,
      "outputs": [
        {
          "output_type": "stream",
          "name": "stdout",
          "text": [
            "Entrez un nombre : 3\n",
            "la somme est  6\n"
          ]
        }
      ]
    },
    {
      "cell_type": "markdown",
      "source": [
        "2.3 Somme des éléments d’un tableau"
      ],
      "metadata": {
        "id": "94jknJsEHp8M"
      }
    },
    {
      "cell_type": "code",
      "source": [
        "tab = []\n",
        "del sum\n",
        "a = int(input(\"Combien de valeurs ? \"))\n",
        "for i in range(a):\n",
        "  num = int(input(\"Entrez votre nombre : \"))\n",
        "  tab.append(num)\n",
        "listSum = sum(tab)\n",
        "print(\"la somme des valeurs de la liste est : \" , listSum)"
      ],
      "metadata": {
        "colab": {
          "base_uri": "https://localhost:8080/"
        },
        "id": "TLJzpa9FHqca",
        "outputId": "7455d4af-d4da-40b3-a13d-b9c25966fc94"
      },
      "execution_count": 5,
      "outputs": [
        {
          "output_type": "stream",
          "name": "stdout",
          "text": [
            "Combien de valeurs ? 3\n",
            "Entrez votre nombre : 3\n",
            "Entrez votre nombre : 3\n",
            "Entrez votre nombre : 3\n",
            "la somme des valeurs de la liste est :  9\n"
          ]
        }
      ]
    },
    {
      "cell_type": "markdown",
      "source": [
        "2.4 FacProduct"
      ],
      "metadata": {
        "id": "1QAUkPw-IHuL"
      }
    },
    {
      "cell_type": "code",
      "source": [
        "tab1 = []\n",
        "tab2 = []\n",
        "a = int(input(\"Combien de nombre dans le tableau 1 ? \"))\n",
        "for i in range(a):\n",
        "  num = int(input(\"Entrez vos nombres : \"))\n",
        "  tab1.append(num)\n",
        "print (\"Votre tableau 1 : \", tab1)\n",
        "\n",
        "b = int(input(\"Combien de nombre dans le tableau 2 ? \"))\n",
        "for j in range(b):\n",
        "  num = int(input(\"Entrez vos nombres : \"))\n",
        "  tab2.append(num)\n",
        "print (\"Votre tableau 2 : \", tab2)\n",
        "\n",
        "resultat = 0\n",
        "for x in range(len(tab1)) :\n",
        "  for w in range(len(tab2)) :\n",
        "    res = tab1[x]*tab2[w]\n",
        "    resultat += res\n",
        "\n",
        "print (\"Résultat :\",resultat)\n"
      ],
      "metadata": {
        "colab": {
          "base_uri": "https://localhost:8080/"
        },
        "id": "LC0ppYlqILyU",
        "outputId": "c4324855-6265-4229-872f-0dcfba023f16"
      },
      "execution_count": 17,
      "outputs": [
        {
          "output_type": "stream",
          "name": "stdout",
          "text": [
            "Combien de nombre dans le tableau 1 ? 3\n",
            "Entrez vos nombres : 3\n",
            "Entrez vos nombres : 3\n",
            "Entrez vos nombres : 3\n",
            "Votre tableau 1 :  [3, 3, 3]\n",
            "Combien de nombre dans le tableau 2 ? 3\n",
            "Entrez vos nombres : 3\n",
            "Entrez vos nombres : 3\n",
            "Entrez vos nombres : 3\n",
            "Votre tableau 2 :  [3, 3, 3]\n",
            "Résultat : 81\n"
          ]
        }
      ]
    }
  ]
}